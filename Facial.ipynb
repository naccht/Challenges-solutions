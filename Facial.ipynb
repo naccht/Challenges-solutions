{
 "cells": [
  {
   "cell_type": "code",
   "execution_count": 2,
   "metadata": {
    "collapsed": true
   },
   "outputs": [],
   "source": [
    "\n",
    "import os\n",
    "import numpy as np\n",
    "import pandas as pd\n",
    "\n",
    "FTRAIN = '/home/wvstudent/Downloads/face/training.csv'\n",
    "FTEST = '/home/wvstudent/Downloads/face/test.csv'\n",
    "def load(test=False, cols=None):\n",
    "    fname = FTEST if test else FTRAIN\n",
    "    df = pd.read_csv(os.path.expanduser(fname))\n",
    "    df['Image'] = df['Image'].apply(lambda im: np.fromstring(im, sep=' '))\n",
    "\n",
    "    if cols:\n",
    "        df = df[list(cols)+['Image']]\n",
    "    \n",
    "    print(df.count())\n",
    "    df = df.dropna()\n",
    "    \n",
    "    X = np.vstack(df['Image'].values)/255\n",
    "    X = X.astype(np.float32)   \n",
    "    if(not test):\n",
    "        y = df[df.columns[:-1]].values\n",
    "        y = (y-48)/48\n",
    "        y = y.astype(np.float32)\n",
    "    else:\n",
    "        y = None\n",
    "        \n",
    "        \n",
    "\n",
    "    # You may want to apply some feature scaling method, here!\n",
    "    \n",
    "    return X,y"
   ]
  },
  {
   "cell_type": "code",
   "execution_count": 3,
   "metadata": {
    "scrolled": true
   },
   "outputs": [
    {
     "name": "stdout",
     "output_type": "stream",
     "text": [
      "left_eye_center_x            7039\n",
      "left_eye_center_y            7039\n",
      "right_eye_center_x           7036\n",
      "right_eye_center_y           7036\n",
      "left_eye_inner_corner_x      2271\n",
      "left_eye_inner_corner_y      2271\n",
      "left_eye_outer_corner_x      2267\n",
      "left_eye_outer_corner_y      2267\n",
      "right_eye_inner_corner_x     2268\n",
      "right_eye_inner_corner_y     2268\n",
      "right_eye_outer_corner_x     2268\n",
      "right_eye_outer_corner_y     2268\n",
      "left_eyebrow_inner_end_x     2270\n",
      "left_eyebrow_inner_end_y     2270\n",
      "left_eyebrow_outer_end_x     2225\n",
      "left_eyebrow_outer_end_y     2225\n",
      "right_eyebrow_inner_end_x    2270\n",
      "right_eyebrow_inner_end_y    2270\n",
      "right_eyebrow_outer_end_x    2236\n",
      "right_eyebrow_outer_end_y    2236\n",
      "nose_tip_x                   7049\n",
      "nose_tip_y                   7049\n",
      "mouth_left_corner_x          2269\n",
      "mouth_left_corner_y          2269\n",
      "mouth_right_corner_x         2270\n",
      "mouth_right_corner_y         2270\n",
      "mouth_center_top_lip_x       2275\n",
      "mouth_center_top_lip_y       2275\n",
      "mouth_center_bottom_lip_x    7016\n",
      "mouth_center_bottom_lip_y    7016\n",
      "Image                        7049\n",
      "dtype: int64\n",
      "(2140, 9216)\n"
     ]
    }
   ],
   "source": [
    "x_train_stuff, y_train_stuff = load(test=False, cols=None)\n",
    "print(x_train_stuff.shape)"
   ]
  },
  {
   "cell_type": "code",
   "execution_count": 4,
   "metadata": {
    "scrolled": true
   },
   "outputs": [
    {
     "name": "stdout",
     "output_type": "stream",
     "text": [
      "(500, 96, 96, 1)\n",
      "(500, 30)\n",
      "(1640, 96, 96, 1)\n",
      "(1640, 30)\n"
     ]
    }
   ],
   "source": [
    "\n",
    "x_train_stuff = x_train_stuff.reshape(2140, 96,96,1)\n",
    "y_train_stuff = y_train_stuff.reshape(2140,30)\n",
    "cut = 500\n",
    "x_test_stuff = x_train_stuff[0:cut,:,:,]\n",
    "print(x_test_stuff.shape)\n",
    "y_test_stuff = y_train_stuff[0:cut,:,]\n",
    "print(y_test_stuff.shape)\n",
    "x_train_stuff = x_train_stuff[cut:,:,:,]\n",
    "print(x_train_stuff.shape)\n",
    "y_train_stuff = y_train_stuff[cut:,:,]\n",
    "print(y_train_stuff.shape)"
   ]
  },
  {
   "cell_type": "code",
   "execution_count": 39,
   "metadata": {},
   "outputs": [
    {
     "name": "stdout",
     "output_type": "stream",
     "text": [
      "_________________________________________________________________\n",
      "Layer (type)                 Output Shape              Param #   \n",
      "=================================================================\n",
      "conv2d_63 (Conv2D)           (None, 96, 96, 64)        640       \n",
      "_________________________________________________________________\n",
      "activation_119 (Activation)  (None, 96, 96, 64)        0         \n",
      "_________________________________________________________________\n",
      "max_pooling2d_5 (MaxPooling2 (None, 48, 48, 64)        0         \n",
      "_________________________________________________________________\n",
      "conv2d_64 (Conv2D)           (None, 48, 48, 32)        18464     \n",
      "_________________________________________________________________\n",
      "activation_120 (Activation)  (None, 48, 48, 32)        0         \n",
      "_________________________________________________________________\n",
      "max_pooling2d_6 (MaxPooling2 (None, 24, 24, 32)        0         \n",
      "_________________________________________________________________\n",
      "conv2d_65 (Conv2D)           (None, 24, 24, 16)        4624      \n",
      "_________________________________________________________________\n",
      "activation_121 (Activation)  (None, 24, 24, 16)        0         \n",
      "_________________________________________________________________\n",
      "flatten_19 (Flatten)         (None, 9216)              0         \n",
      "_________________________________________________________________\n",
      "dense_57 (Dense)             (None, 256)               2359552   \n",
      "_________________________________________________________________\n",
      "activation_122 (Activation)  (None, 256)               0         \n",
      "_________________________________________________________________\n",
      "dense_58 (Dense)             (None, 256)               65792     \n",
      "_________________________________________________________________\n",
      "activation_123 (Activation)  (None, 256)               0         \n",
      "_________________________________________________________________\n",
      "dense_59 (Dense)             (None, 256)               65792     \n",
      "_________________________________________________________________\n",
      "activation_124 (Activation)  (None, 256)               0         \n",
      "_________________________________________________________________\n",
      "dense_60 (Dense)             (None, 30)                7710      \n",
      "_________________________________________________________________\n",
      "activation_125 (Activation)  (None, 30)                0         \n",
      "=================================================================\n",
      "Total params: 2,522,574\n",
      "Trainable params: 2,522,574\n",
      "Non-trainable params: 0\n",
      "_________________________________________________________________\n",
      "Train on 1640 samples, validate on 500 samples\n",
      "Epoch 1/30\n",
      "1640/1640 [==============================] - 35s - loss: 0.0147 - acc: 0.5494 - val_loss: 0.0073 - val_acc: 0.7680\n",
      "Epoch 2/30\n",
      "1640/1640 [==============================] - 34s - loss: 0.0067 - acc: 0.6195 - val_loss: 0.0046 - val_acc: 0.7520\n",
      "Epoch 3/30\n",
      "1640/1640 [==============================] - 36s - loss: 0.0056 - acc: 0.6415 - val_loss: 0.0040 - val_acc: 0.7720\n",
      "Epoch 4/30\n",
      "1640/1640 [==============================] - 36s - loss: 0.0053 - acc: 0.6476 - val_loss: 0.0043 - val_acc: 0.7860\n",
      "Epoch 5/30\n",
      "1640/1640 [==============================] - 36s - loss: 0.0052 - acc: 0.6555 - val_loss: 0.0039 - val_acc: 0.8040\n",
      "Epoch 6/30\n",
      "1640/1640 [==============================] - 34s - loss: 0.0050 - acc: 0.6476 - val_loss: 0.0036 - val_acc: 0.7940\n",
      "Epoch 7/30\n",
      "1640/1640 [==============================] - 35s - loss: 0.0050 - acc: 0.6512 - val_loss: 0.0036 - val_acc: 0.8140\n",
      "Epoch 8/30\n",
      "1640/1640 [==============================] - 34s - loss: 0.0049 - acc: 0.6573 - val_loss: 0.0034 - val_acc: 0.8100\n",
      "Epoch 9/30\n",
      "1640/1640 [==============================] - 34s - loss: 0.0048 - acc: 0.6591 - val_loss: 0.0035 - val_acc: 0.8160\n",
      "Epoch 10/30\n",
      "1640/1640 [==============================] - 34s - loss: 0.0048 - acc: 0.6622 - val_loss: 0.0033 - val_acc: 0.8040\n",
      "Epoch 11/30\n",
      "1640/1640 [==============================] - 34s - loss: 0.0047 - acc: 0.6604 - val_loss: 0.0037 - val_acc: 0.7420\n",
      "Epoch 12/30\n",
      "1640/1640 [==============================] - 38s - loss: 0.0046 - acc: 0.6567 - val_loss: 0.0033 - val_acc: 0.8180\n",
      "Epoch 13/30\n",
      "1640/1640 [==============================] - 35s - loss: 0.0046 - acc: 0.6573 - val_loss: 0.0035 - val_acc: 0.8040\n",
      "Epoch 14/30\n",
      "1640/1640 [==============================] - 35s - loss: 0.0045 - acc: 0.6628 - val_loss: 0.0032 - val_acc: 0.8080\n",
      "Epoch 15/30\n",
      "1640/1640 [==============================] - 34s - loss: 0.0045 - acc: 0.6640 - val_loss: 0.0032 - val_acc: 0.8200\n",
      "Epoch 16/30\n",
      "1640/1640 [==============================] - 34s - loss: 0.0044 - acc: 0.6628 - val_loss: 0.0031 - val_acc: 0.8120\n",
      "Epoch 17/30\n",
      "1640/1640 [==============================] - 34s - loss: 0.0044 - acc: 0.6591 - val_loss: 0.0031 - val_acc: 0.8200\n",
      "Epoch 18/30\n",
      "1640/1640 [==============================] - 34s - loss: 0.0043 - acc: 0.6628 - val_loss: 0.0033 - val_acc: 0.8080\n",
      "Epoch 19/30\n",
      "1640/1640 [==============================] - 34s - loss: 0.0043 - acc: 0.6622 - val_loss: 0.0033 - val_acc: 0.8120\n",
      "Epoch 20/30\n",
      "1640/1640 [==============================] - 34s - loss: 0.0043 - acc: 0.6671 - val_loss: 0.0030 - val_acc: 0.8160\n",
      "Epoch 21/30\n",
      "1640/1640 [==============================] - 36s - loss: 0.0042 - acc: 0.6671 - val_loss: 0.0031 - val_acc: 0.8100\n",
      "Epoch 22/30\n",
      "1640/1640 [==============================] - 35s - loss: 0.0042 - acc: 0.6640 - val_loss: 0.0030 - val_acc: 0.8220\n",
      "Epoch 23/30\n",
      "1640/1640 [==============================] - 35s - loss: 0.0041 - acc: 0.6695 - val_loss: 0.0030 - val_acc: 0.8280\n",
      "Epoch 24/30\n",
      "1640/1640 [==============================] - 35s - loss: 0.0041 - acc: 0.6695 - val_loss: 0.0029 - val_acc: 0.8020\n",
      "Epoch 25/30\n",
      "1640/1640 [==============================] - 35s - loss: 0.0041 - acc: 0.6677 - val_loss: 0.0029 - val_acc: 0.8260\n",
      "Epoch 26/30\n",
      "1640/1640 [==============================] - 35s - loss: 0.0040 - acc: 0.6665 - val_loss: 0.0028 - val_acc: 0.8160\n",
      "Epoch 27/30\n",
      "1640/1640 [==============================] - 34s - loss: 0.0040 - acc: 0.6659 - val_loss: 0.0030 - val_acc: 0.8280\n",
      "Epoch 28/30\n",
      "1640/1640 [==============================] - 34s - loss: 0.0040 - acc: 0.6634 - val_loss: 0.0028 - val_acc: 0.8280\n",
      "Epoch 29/30\n",
      "1640/1640 [==============================] - 33s - loss: 0.0039 - acc: 0.6622 - val_loss: 0.0028 - val_acc: 0.8240\n",
      "Epoch 30/30\n",
      "1640/1640 [==============================] - 35s - loss: 0.0039 - acc: 0.6640 - val_loss: 0.0027 - val_acc: 0.8180\n"
     ]
    },
    {
     "data": {
      "text/plain": [
       "<keras.callbacks.History at 0x7f051eb95780>"
      ]
     },
     "execution_count": 39,
     "metadata": {},
     "output_type": "execute_result"
    }
   ],
   "source": [
    "from keras.models import Sequential\n",
    "from keras.utils import np_utils\n",
    "from keras.utils import generic_utils\n",
    "from keras.layers import Input,Flatten,Dropout, Dense, Conv2D, MaxPooling2D, UpSampling2D, Activation\n",
    "                                                                                                                                                                                                                                                                                                                                                     \n",
    "nb_classes =30\n",
    "model = Sequential()\n",
    "model.add(Conv2D(64, (3, 3), padding='same', \n",
    "          input_shape=((96,96,1))))\n",
    "model.add(Activation('linear'))\n",
    "model.add(MaxPooling2D(2,2))\n",
    "model.add(Conv2D(32, (3, 3), padding='same'))\n",
    "model.add(Activation('linear'))\n",
    "model.add(MaxPooling2D(2,2))\n",
    "model.add(Conv2D(16, (3, 3), padding='same'))\n",
    "model.add(Activation('linear'))\n",
    "\n",
    "\n",
    "\n",
    "model.add(Flatten())\n",
    "\n",
    "model.add(Dense(256))\n",
    "model.add(Activation('linear'))\n",
    "\n",
    "model.add(Dense(256))\n",
    "model.add(Activation('linear'))\n",
    "\n",
    "model.add(Dense(256))\n",
    "model.add(Activation('linear'))\n",
    "\n",
    "model.add(Dense(nb_classes))\n",
    "model.add(Activation('linear'))\n",
    "\n",
    "model.compile(loss='mean_squared_error',\n",
    "              optimizer ='sgd' ,\n",
    "              metrics=['accuracy'])\n",
    "model.summary()\n",
    "model.fit(x_train_stuff, y_train_stuff, batch_size=8, \n",
    "          epochs=30,verbose=1,\n",
    "          validation_data=(x_test_stuff,y_test_stuff),\n",
    "          shuffle = True)\n",
    "\n",
    "                                                                                                                                                                                                                                                                                                                                                                                                                                                                                                                                                                                                                    "
   ]
  },
  {
   "cell_type": "code",
   "execution_count": null,
   "metadata": {},
   "outputs": [
    {
     "data": {
      "image/png": "[encoded data removed]",
      "text/plain": [
       "<matplotlib.figure.Figure at 0x7f051f15ab38>"
      ]
     },
     "metadata": {},
     "output_type": "display_data"
    },
    {
     "name": "stdout",
     "output_type": "stream",
     "text": [
      "1\n"
     ]
    }
   ],
   "source": [
    "import matplotlib.pyplot as plt\n",
    "idx = 0\n",
    "while True:  \n",
    "    plt.figure()\n",
    "    locs = (model.predict(x_train_stuff[idx].reshape(1,96,96,1))*48+48)[0]\n",
    "    for x in range(0,30,2):\n",
    "        plt.scatter(locs[x],locs[x+1])\n",
    "        plt.imshow(x_train_stuff[idx].reshape(96,96), cmap='gray')\n",
    "    plt.show()\n",
    "    idx += 1\n",
    "    print(idx)\n",
    "    input(\"Press Enter to continue...\")"
   ]
  },
  {
   "cell_type": "code",
   "execution_count": null,
   "metadata": {
    "collapsed": true
   },
   "outputs": [],
   "source": []
  },
  {
   "cell_type": "code",
   "execution_count": null,
   "metadata": {
    "collapsed": true
   },
   "outputs": [],
   "source": []
  }
 ],
 "metadata": {
  "anaconda-cloud": {},
  "kernelspec": {
   "display_name": "Python [default]",
   "language": "python",
   "name": "python3"
  },
  "language_info": {
   "codemirror_mode": {
    "name": "ipython",
    "version": 3
   },
   "file_extension": ".py",
   "mimetype": "text/x-python",
   "name": "python",
   "nbconvert_exporter": "python",
   "pygments_lexer": "ipython3",
   "version": "3.5.3"
  }
 },
 "nbformat": 4,
 "nbformat_minor": 1
}
